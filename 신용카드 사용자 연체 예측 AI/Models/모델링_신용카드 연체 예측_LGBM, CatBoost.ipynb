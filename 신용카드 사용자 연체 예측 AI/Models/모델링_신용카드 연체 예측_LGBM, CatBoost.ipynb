{
 "cells": [
  {
   "cell_type": "markdown",
   "id": "4adcfd4f",
   "metadata": {},
   "source": [
    "## 데이터 불러오기"
   ]
  },
  {
   "cell_type": "code",
   "execution_count": 12,
   "id": "f0c3ccbe",
   "metadata": {
    "ExecuteTime": {
     "end_time": "2021-12-02T05:32:10.471058Z",
     "start_time": "2021-12-02T05:32:10.205650Z"
    }
   },
   "outputs": [],
   "source": [
    "import pandas as pd\n",
    "import seaborn as sns\n",
    "import numpy as np\n",
    "import matplotlib.pyplot as plt\n",
    "import warnings\n",
    "import random\n",
    "import optuna\n",
    "import glob\n",
    "from optuna import Trial\n",
    "from optuna.samplers import TPESampler\n",
    "from sklearn.metrics import log_loss\n",
    "from sklearn.model_selection import StratifiedKFold,train_test_split\n",
    "from lightgbm import LGBMClassifier\n",
    "from catboost import CatBoostClassifier\n",
    "\n",
    "warnings.filterwarnings('ignore')\n",
    "%matplotlib inline"
   ]
  },
  {
   "cell_type": "code",
   "execution_count": 2,
   "id": "a77f479c",
   "metadata": {
    "ExecuteTime": {
     "end_time": "2021-12-02T05:29:01.469111Z",
     "start_time": "2021-12-02T05:29:01.307609Z"
    }
   },
   "outputs": [],
   "source": [
    "train = pd.read_csv('../data/train_ver2.csv', index_col=0)\n",
    "test = pd.read_csv('../data/test_ver2.csv', index_col=0)"
   ]
  },
  {
   "cell_type": "code",
   "execution_count": 3,
   "id": "940009af",
   "metadata": {
    "ExecuteTime": {
     "end_time": "2021-12-02T05:29:03.770525Z",
     "start_time": "2021-12-02T05:29:03.761051Z"
    }
   },
   "outputs": [],
   "source": [
    "train.reset_index(drop=True, inplace=True)"
   ]
  },
  {
   "cell_type": "code",
   "execution_count": 164,
   "id": "0c8cb4f9",
   "metadata": {
    "ExecuteTime": {
     "end_time": "2021-12-02T03:11:40.301552Z",
     "start_time": "2021-12-02T03:11:40.285559Z"
    }
   },
   "outputs": [
    {
     "data": {
      "text/html": [
       "<div>\n",
       "<style scoped>\n",
       "    .dataframe tbody tr th:only-of-type {\n",
       "        vertical-align: middle;\n",
       "    }\n",
       "\n",
       "    .dataframe tbody tr th {\n",
       "        vertical-align: top;\n",
       "    }\n",
       "\n",
       "    .dataframe thead th {\n",
       "        text-align: right;\n",
       "    }\n",
       "</style>\n",
       "<table border=\"1\" class=\"dataframe\">\n",
       "  <thead>\n",
       "    <tr style=\"text-align: right;\">\n",
       "      <th></th>\n",
       "      <th>gender</th>\n",
       "      <th>age</th>\n",
       "      <th>age_range</th>\n",
       "      <th>GET_JOB_AGE</th>\n",
       "      <th>DAYS_BIRTH</th>\n",
       "      <th>occyp_type</th>\n",
       "      <th>car</th>\n",
       "      <th>reality</th>\n",
       "      <th>work_phone</th>\n",
       "      <th>phone</th>\n",
       "      <th>...</th>\n",
       "      <th>begin_month</th>\n",
       "      <th>INCOME_EMPLOYED_RATIO_YEAR</th>\n",
       "      <th>INCOME_EMPLOYED_RATIO_MONTH</th>\n",
       "      <th>INCOME_EMPLOYED_RATIO_WEEK</th>\n",
       "      <th>INCOME_EMPLOYED_RATIO_DAY</th>\n",
       "      <th>INCOME_fam_RATIO</th>\n",
       "      <th>INCOME_child_num_RATIO</th>\n",
       "      <th>income_per_days_birth</th>\n",
       "      <th>income_per_age</th>\n",
       "      <th>credit</th>\n",
       "    </tr>\n",
       "  </thead>\n",
       "  <tbody>\n",
       "    <tr>\n",
       "      <th>0</th>\n",
       "      <td>0</td>\n",
       "      <td>-0.452872</td>\n",
       "      <td>3</td>\n",
       "      <td>-0.914537</td>\n",
       "      <td>-0.490120</td>\n",
       "      <td>1</td>\n",
       "      <td>0</td>\n",
       "      <td>0</td>\n",
       "      <td>0</td>\n",
       "      <td>0</td>\n",
       "      <td>...</td>\n",
       "      <td>-1.215079</td>\n",
       "      <td>-0.901362</td>\n",
       "      <td>-0.845622</td>\n",
       "      <td>-0.781729</td>\n",
       "      <td>-0.379672</td>\n",
       "      <td>0.325710</td>\n",
       "      <td>-0.663569</td>\n",
       "      <td>0.241125</td>\n",
       "      <td>0.221368</td>\n",
       "      <td>1.0</td>\n",
       "    </tr>\n",
       "    <tr>\n",
       "      <th>1</th>\n",
       "      <td>0</td>\n",
       "      <td>-1.060819</td>\n",
       "      <td>3</td>\n",
       "      <td>-0.839529</td>\n",
       "      <td>-1.089625</td>\n",
       "      <td>2</td>\n",
       "      <td>0</td>\n",
       "      <td>1</td>\n",
       "      <td>0</td>\n",
       "      <td>0</td>\n",
       "      <td>...</td>\n",
       "      <td>-1.275466</td>\n",
       "      <td>0.200421</td>\n",
       "      <td>-0.096129</td>\n",
       "      <td>-0.188113</td>\n",
       "      <td>-0.016543</td>\n",
       "      <td>0.001432</td>\n",
       "      <td>1.620097</td>\n",
       "      <td>1.160426</td>\n",
       "      <td>1.126932</td>\n",
       "      <td>1.0</td>\n",
       "    </tr>\n",
       "    <tr>\n",
       "      <th>2</th>\n",
       "      <td>1</td>\n",
       "      <td>0.763023</td>\n",
       "      <td>5</td>\n",
       "      <td>0.210578</td>\n",
       "      <td>0.744590</td>\n",
       "      <td>3</td>\n",
       "      <td>1</td>\n",
       "      <td>1</td>\n",
       "      <td>0</td>\n",
       "      <td>1</td>\n",
       "      <td>...</td>\n",
       "      <td>-0.248902</td>\n",
       "      <td>-0.140434</td>\n",
       "      <td>-0.353456</td>\n",
       "      <td>-0.394394</td>\n",
       "      <td>-0.199249</td>\n",
       "      <td>1.590101</td>\n",
       "      <td>-0.663569</td>\n",
       "      <td>1.394445</td>\n",
       "      <td>1.396311</td>\n",
       "      <td>2.0</td>\n",
       "    </tr>\n",
       "  </tbody>\n",
       "</table>\n",
       "<p>3 rows × 36 columns</p>\n",
       "</div>"
      ],
      "text/plain": [
       "   gender       age  age_range  GET_JOB_AGE  DAYS_BIRTH  occyp_type  car  \\\n",
       "0       0 -0.452872          3    -0.914537   -0.490120           1    0   \n",
       "1       0 -1.060819          3    -0.839529   -1.089625           2    0   \n",
       "2       1  0.763023          5     0.210578    0.744590           3    1   \n",
       "\n",
       "   reality  work_phone  phone  ...  begin_month  INCOME_EMPLOYED_RATIO_YEAR  \\\n",
       "0        0           0      0  ...    -1.215079                   -0.901362   \n",
       "1        1           0      0  ...    -1.275466                    0.200421   \n",
       "2        1           0      1  ...    -0.248902                   -0.140434   \n",
       "\n",
       "   INCOME_EMPLOYED_RATIO_MONTH  INCOME_EMPLOYED_RATIO_WEEK  \\\n",
       "0                    -0.845622                   -0.781729   \n",
       "1                    -0.096129                   -0.188113   \n",
       "2                    -0.353456                   -0.394394   \n",
       "\n",
       "   INCOME_EMPLOYED_RATIO_DAY  INCOME_fam_RATIO  INCOME_child_num_RATIO  \\\n",
       "0                  -0.379672          0.325710               -0.663569   \n",
       "1                  -0.016543          0.001432                1.620097   \n",
       "2                  -0.199249          1.590101               -0.663569   \n",
       "\n",
       "   income_per_days_birth  income_per_age  credit  \n",
       "0               0.241125        0.221368     1.0  \n",
       "1               1.160426        1.126932     1.0  \n",
       "2               1.394445        1.396311     2.0  \n",
       "\n",
       "[3 rows x 36 columns]"
      ]
     },
     "execution_count": 164,
     "metadata": {},
     "output_type": "execute_result"
    }
   ],
   "source": [
    "train.head(3)"
   ]
  },
  {
   "cell_type": "code",
   "execution_count": 4,
   "id": "10843e42",
   "metadata": {
    "ExecuteTime": {
     "end_time": "2021-12-02T05:29:06.756207Z",
     "start_time": "2021-12-02T05:29:06.753208Z"
    }
   },
   "outputs": [],
   "source": [
    "test.reset_index(drop=True, inplace=True)"
   ]
  },
  {
   "cell_type": "code",
   "execution_count": 166,
   "id": "d4ccedf4",
   "metadata": {
    "ExecuteTime": {
     "end_time": "2021-12-02T03:12:17.345997Z",
     "start_time": "2021-12-02T03:12:17.326066Z"
    }
   },
   "outputs": [
    {
     "data": {
      "text/html": [
       "<div>\n",
       "<style scoped>\n",
       "    .dataframe tbody tr th:only-of-type {\n",
       "        vertical-align: middle;\n",
       "    }\n",
       "\n",
       "    .dataframe tbody tr th {\n",
       "        vertical-align: top;\n",
       "    }\n",
       "\n",
       "    .dataframe thead th {\n",
       "        text-align: right;\n",
       "    }\n",
       "</style>\n",
       "<table border=\"1\" class=\"dataframe\">\n",
       "  <thead>\n",
       "    <tr style=\"text-align: right;\">\n",
       "      <th></th>\n",
       "      <th>gender</th>\n",
       "      <th>age</th>\n",
       "      <th>age_range</th>\n",
       "      <th>GET_JOB_AGE</th>\n",
       "      <th>DAYS_BIRTH</th>\n",
       "      <th>occyp_type</th>\n",
       "      <th>car</th>\n",
       "      <th>reality</th>\n",
       "      <th>work_phone</th>\n",
       "      <th>phone</th>\n",
       "      <th>...</th>\n",
       "      <th>begin_year</th>\n",
       "      <th>begin_month</th>\n",
       "      <th>INCOME_EMPLOYED_RATIO_YEAR</th>\n",
       "      <th>INCOME_EMPLOYED_RATIO_MONTH</th>\n",
       "      <th>INCOME_EMPLOYED_RATIO_WEEK</th>\n",
       "      <th>INCOME_EMPLOYED_RATIO_DAY</th>\n",
       "      <th>INCOME_fam_RATIO</th>\n",
       "      <th>INCOME_child_num_RATIO</th>\n",
       "      <th>income_per_days_birth</th>\n",
       "      <th>income_per_age</th>\n",
       "    </tr>\n",
       "  </thead>\n",
       "  <tbody>\n",
       "    <tr>\n",
       "      <th>0</th>\n",
       "      <td>1</td>\n",
       "      <td>1.444523</td>\n",
       "      <td>6</td>\n",
       "      <td>1.693874</td>\n",
       "      <td>1.421995</td>\n",
       "      <td>1</td>\n",
       "      <td>1</td>\n",
       "      <td>0</td>\n",
       "      <td>0</td>\n",
       "      <td>1</td>\n",
       "      <td>...</td>\n",
       "      <td>2.379515</td>\n",
       "      <td>2.062988</td>\n",
       "      <td>1.003403</td>\n",
       "      <td>1.728600</td>\n",
       "      <td>1.902726</td>\n",
       "      <td>-0.528793</td>\n",
       "      <td>-0.582688</td>\n",
       "      <td>-0.674632</td>\n",
       "      <td>-0.933304</td>\n",
       "      <td>-0.935112</td>\n",
       "    </tr>\n",
       "    <tr>\n",
       "      <th>1</th>\n",
       "      <td>0</td>\n",
       "      <td>0.661999</td>\n",
       "      <td>5</td>\n",
       "      <td>-0.699044</td>\n",
       "      <td>0.701092</td>\n",
       "      <td>2</td>\n",
       "      <td>0</td>\n",
       "      <td>1</td>\n",
       "      <td>0</td>\n",
       "      <td>1</td>\n",
       "      <td>...</td>\n",
       "      <td>0.918727</td>\n",
       "      <td>0.595002</td>\n",
       "      <td>-1.860660</td>\n",
       "      <td>-1.419050</td>\n",
       "      <td>-1.227828</td>\n",
       "      <td>-0.477160</td>\n",
       "      <td>-0.292258</td>\n",
       "      <td>-0.674632</td>\n",
       "      <td>-0.680221</td>\n",
       "      <td>-0.670817</td>\n",
       "    </tr>\n",
       "    <tr>\n",
       "      <th>2</th>\n",
       "      <td>0</td>\n",
       "      <td>-0.033577</td>\n",
       "      <td>4</td>\n",
       "      <td>0.347858</td>\n",
       "      <td>-0.031962</td>\n",
       "      <td>3</td>\n",
       "      <td>0</td>\n",
       "      <td>1</td>\n",
       "      <td>1</td>\n",
       "      <td>1</td>\n",
       "      <td>...</td>\n",
       "      <td>0.918727</td>\n",
       "      <td>0.839666</td>\n",
       "      <td>0.541141</td>\n",
       "      <td>0.257498</td>\n",
       "      <td>0.116950</td>\n",
       "      <td>0.531405</td>\n",
       "      <td>-1.352825</td>\n",
       "      <td>-0.674632</td>\n",
       "      <td>-1.027999</td>\n",
       "      <td>-1.029184</td>\n",
       "    </tr>\n",
       "  </tbody>\n",
       "</table>\n",
       "<p>3 rows × 35 columns</p>\n",
       "</div>"
      ],
      "text/plain": [
       "   gender       age  age_range  GET_JOB_AGE  DAYS_BIRTH  occyp_type  car  \\\n",
       "0       1  1.444523          6     1.693874    1.421995           1    1   \n",
       "1       0  0.661999          5    -0.699044    0.701092           2    0   \n",
       "2       0 -0.033577          4     0.347858   -0.031962           3    0   \n",
       "\n",
       "   reality  work_phone  phone  ...  begin_year  begin_month  \\\n",
       "0        0           0      1  ...    2.379515     2.062988   \n",
       "1        1           0      1  ...    0.918727     0.595002   \n",
       "2        1           1      1  ...    0.918727     0.839666   \n",
       "\n",
       "   INCOME_EMPLOYED_RATIO_YEAR  INCOME_EMPLOYED_RATIO_MONTH  \\\n",
       "0                    1.003403                     1.728600   \n",
       "1                   -1.860660                    -1.419050   \n",
       "2                    0.541141                     0.257498   \n",
       "\n",
       "   INCOME_EMPLOYED_RATIO_WEEK  INCOME_EMPLOYED_RATIO_DAY  INCOME_fam_RATIO  \\\n",
       "0                    1.902726                  -0.528793         -0.582688   \n",
       "1                   -1.227828                  -0.477160         -0.292258   \n",
       "2                    0.116950                   0.531405         -1.352825   \n",
       "\n",
       "   INCOME_child_num_RATIO  income_per_days_birth  income_per_age  \n",
       "0               -0.674632              -0.933304       -0.935112  \n",
       "1               -0.674632              -0.680221       -0.670817  \n",
       "2               -0.674632              -1.027999       -1.029184  \n",
       "\n",
       "[3 rows x 35 columns]"
      ]
     },
     "execution_count": 166,
     "metadata": {},
     "output_type": "execute_result"
    }
   ],
   "source": [
    "test.head(3)"
   ]
  },
  {
   "cell_type": "code",
   "execution_count": 5,
   "id": "40d5ed3b",
   "metadata": {
    "ExecuteTime": {
     "end_time": "2021-12-02T05:29:10.803517Z",
     "start_time": "2021-12-02T05:29:10.787618Z"
    }
   },
   "outputs": [
    {
     "data": {
      "text/plain": [
       "((26451, 36), (9998, 35))"
      ]
     },
     "execution_count": 5,
     "metadata": {},
     "output_type": "execute_result"
    }
   ],
   "source": [
    "train.shape, test.shape"
   ]
  },
  {
   "cell_type": "markdown",
   "id": "a30bb216",
   "metadata": {},
   "source": [
    "## LGBM"
   ]
  },
  {
   "cell_type": "markdown",
   "id": "7e652689",
   "metadata": {},
   "source": [
    "### Optuna 활용한 best parameter 추출 "
   ]
  },
  {
   "cell_type": "markdown",
   "id": "f1795fb0",
   "metadata": {},
   "source": [
    "- 하이퍼파라미터 튜닝에 쓰고 있는 최신 Automl 기법입니다.\n",
    "- 빠르게 튜닝이 가능하다는 장점이 있습니다.\n",
    "- 하이퍼파라미터 튜닝 방식을 지정할수 있다. -> 직관적인 api인 튜닝된 lightgbm도 제공해줍니다.\n",
    "- 다른 라이브러리들에 비해 직관적인 장점이 있어 코딩하기 용이합니다."
   ]
  },
  {
   "cell_type": "code",
   "execution_count": 206,
   "id": "da3f301a",
   "metadata": {
    "ExecuteTime": {
     "end_time": "2021-12-02T04:51:32.969175Z",
     "start_time": "2021-12-02T04:51:32.960185Z"
    }
   },
   "outputs": [],
   "source": [
    "X = train.drop([\"credit\"], axis=1)\n",
    "y = train[\"credit\"]\n",
    "X_test = test.copy()"
   ]
  },
  {
   "cell_type": "code",
   "execution_count": 211,
   "id": "93ba3bb3",
   "metadata": {
    "ExecuteTime": {
     "end_time": "2021-12-02T04:54:54.766833Z",
     "start_time": "2021-12-02T04:54:54.756199Z"
    }
   },
   "outputs": [],
   "source": [
    "def objective_lgbm(trial: Trial) -> float:\n",
    "    params_lgb = {\n",
    "        \"random_state\": 42,\n",
    "        \"verbosity\": -1,\n",
    "        \"learning_rate\": 0.05,\n",
    "        \"n_estimators\": 10000,\n",
    "        \"objective\": \"multiclass\",\n",
    "        \"metric\": \"multi_logloss\",\n",
    "        \"reg_alpha\": trial.suggest_float(\"reg_alpha\", 1e-8, 3e-5),\n",
    "        \"reg_lambda\": trial.suggest_float(\"reg_lambda\", 1e-8, 9e-2),\n",
    "        \"max_depth\": trial.suggest_int(\"max_depth\", 1, 20),\n",
    "        \"num_leaves\": trial.suggest_int(\"num_leaves\", 2, 256),\n",
    "        \"colsample_bytree\": trial.suggest_float(\"colsample_bytree\", 0.4, 1.0),\n",
    "        \"subsample\": trial.suggest_float(\"subsample\", 0.3, 1.0),\n",
    "        \"subsample_freq\": trial.suggest_int(\"subsample_freq\", 1, 10),\n",
    "        \"min_child_samples\": trial.suggest_int(\"min_child_samples\", 5, 100),\n",
    "        \"max_bin\": trial.suggest_int(\"max_bin\", 200, 500),\n",
    "    }\n",
    "    \n",
    "    X_train, X_valid, y_train, y_valid = train_test_split(X, y, test_size=0.2)\n",
    "\n",
    "    lgbm = LGBMClassifier(**params_lgb)\n",
    "    lgbm.fit(\n",
    "        X_train,\n",
    "        y_train,\n",
    "        eval_set=[(X_train, y_train), (X_valid, y_valid)],\n",
    "        early_stopping_rounds=30,\n",
    "        verbose=100,\n",
    "    )\n",
    "\n",
    "    lgb_pred = lgbm.predict_proba(X_valid)\n",
    "    log_score = log_loss(y_valid, lgb_pred)\n",
    "    \n",
    "    return log_score"
   ]
  },
  {
   "cell_type": "code",
   "execution_count": 212,
   "id": "745f13bf",
   "metadata": {
    "ExecuteTime": {
     "end_time": "2021-12-02T04:55:33.826620Z",
     "start_time": "2021-12-02T04:54:58.581778Z"
    },
    "scrolled": true
   },
   "outputs": [
    {
     "name": "stderr",
     "output_type": "stream",
     "text": [
      "\u001b[32m[I 2021-12-02 13:54:58,583]\u001b[0m A new study created in memory with name: lgbm_parameter_opt\u001b[0m\n"
     ]
    },
    {
     "name": "stdout",
     "output_type": "stream",
     "text": [
      "Training until validation scores don't improve for 30 rounds\n",
      "[100]\ttraining's multi_logloss: 0.671688\tvalid_1's multi_logloss: 0.753454\n",
      "[200]\ttraining's multi_logloss: 0.59089\tvalid_1's multi_logloss: 0.73076\n",
      "[300]\ttraining's multi_logloss: 0.534223\tvalid_1's multi_logloss: 0.722329\n",
      "Early stopping, best iteration is:\n",
      "[317]\ttraining's multi_logloss: 0.525932\tvalid_1's multi_logloss: 0.721636\n"
     ]
    },
    {
     "name": "stderr",
     "output_type": "stream",
     "text": [
      "\u001b[32m[I 2021-12-02 13:55:02,267]\u001b[0m Trial 0 finished with value: 0.7216360595571358 and parameters: {'reg_alpha': 1.12424581642324e-05, 'reg_lambda': 0.08556428806974939, 'max_depth': 15, 'num_leaves': 154, 'colsample_bytree': 0.4936111842654619, 'subsample': 0.40919616423534183, 'subsample_freq': 1, 'min_child_samples': 88, 'max_bin': 380}. Best is trial 0 with value: 0.7216360595571358.\u001b[0m\n"
     ]
    },
    {
     "name": "stdout",
     "output_type": "stream",
     "text": [
      "Training until validation scores don't improve for 30 rounds\n",
      "[100]\ttraining's multi_logloss: 0.529024\tvalid_1's multi_logloss: 0.722186\n",
      "Early stopping, best iteration is:\n",
      "[166]\ttraining's multi_logloss: 0.439888\tvalid_1's multi_logloss: 0.714669\n"
     ]
    },
    {
     "name": "stderr",
     "output_type": "stream",
     "text": [
      "\u001b[32m[I 2021-12-02 13:55:06,303]\u001b[0m Trial 1 finished with value: 0.7146692512382726 and parameters: {'reg_alpha': 2.1245096608103405e-05, 'reg_lambda': 0.0018526142807772773, 'max_depth': 20, 'num_leaves': 214, 'colsample_bytree': 0.5274034664069657, 'subsample': 0.42727747704497043, 'subsample_freq': 2, 'min_child_samples': 34, 'max_bin': 357}. Best is trial 1 with value: 0.7146692512382726.\u001b[0m\n"
     ]
    },
    {
     "name": "stdout",
     "output_type": "stream",
     "text": [
      "Training until validation scores don't improve for 30 rounds\n",
      "[100]\ttraining's multi_logloss: 0.698867\tvalid_1's multi_logloss: 0.758004\n",
      "[200]\ttraining's multi_logloss: 0.632168\tvalid_1's multi_logloss: 0.738027\n",
      "[300]\ttraining's multi_logloss: 0.585179\tvalid_1's multi_logloss: 0.728728\n",
      "[400]\ttraining's multi_logloss: 0.547439\tvalid_1's multi_logloss: 0.723018\n",
      "Early stopping, best iteration is:\n",
      "[451]\ttraining's multi_logloss: 0.530345\tvalid_1's multi_logloss: 0.721995\n"
     ]
    },
    {
     "name": "stderr",
     "output_type": "stream",
     "text": [
      "\u001b[32m[I 2021-12-02 13:55:09,955]\u001b[0m Trial 2 finished with value: 0.7219946289732971 and parameters: {'reg_alpha': 1.2964031109077052e-05, 'reg_lambda': 0.02621062970553237, 'max_depth': 13, 'num_leaves': 37, 'colsample_bytree': 0.5752867891211308, 'subsample': 0.5564532903055841, 'subsample_freq': 5, 'min_child_samples': 80, 'max_bin': 260}. Best is trial 1 with value: 0.7146692512382726.\u001b[0m\n"
     ]
    },
    {
     "name": "stdout",
     "output_type": "stream",
     "text": [
      "Training until validation scores don't improve for 30 rounds\n",
      "[100]\ttraining's multi_logloss: 0.807888\tvalid_1's multi_logloss: 0.815094\n"
     ]
    },
    {
     "name": "stderr",
     "output_type": "stream",
     "text": [
      "\u001b[32m[I 2021-12-02 13:55:10,711]\u001b[0m Trial 3 finished with value: 0.8106130075487935 and parameters: {'reg_alpha': 1.5431890808024213e-05, 'reg_lambda': 0.05331731527343814, 'max_depth': 1, 'num_leaves': 156, 'colsample_bytree': 0.502314474212375, 'subsample': 0.3455361150896956, 'subsample_freq': 10, 'min_child_samples': 97, 'max_bin': 443}. Best is trial 1 with value: 0.7146692512382726.\u001b[0m\n"
     ]
    },
    {
     "name": "stdout",
     "output_type": "stream",
     "text": [
      "[200]\ttraining's multi_logloss: 0.803119\tvalid_1's multi_logloss: 0.81158\n",
      "Early stopping, best iteration is:\n",
      "[244]\ttraining's multi_logloss: 0.802154\tvalid_1's multi_logloss: 0.810613\n",
      "Training until validation scores don't improve for 30 rounds\n",
      "[100]\ttraining's multi_logloss: 0.635581\tvalid_1's multi_logloss: 0.759623\n",
      "[200]\ttraining's multi_logloss: 0.544045\tvalid_1's multi_logloss: 0.742447\n",
      "[300]\ttraining's multi_logloss: 0.481295\tvalid_1's multi_logloss: 0.737913\n",
      "Early stopping, best iteration is:\n",
      "[297]\ttraining's multi_logloss: 0.482905\tvalid_1's multi_logloss: 0.737752\n"
     ]
    },
    {
     "name": "stderr",
     "output_type": "stream",
     "text": [
      "\u001b[32m[I 2021-12-02 13:55:14,370]\u001b[0m Trial 4 finished with value: 0.7377521734873002 and parameters: {'reg_alpha': 9.145366937509386e-06, 'reg_lambda': 0.008790499283853408, 'max_depth': 14, 'num_leaves': 114, 'colsample_bytree': 0.47322294090686734, 'subsample': 0.6466238370778892, 'subsample_freq': 1, 'min_child_samples': 92, 'max_bin': 277}. Best is trial 1 with value: 0.7146692512382726.\u001b[0m\n"
     ]
    },
    {
     "name": "stdout",
     "output_type": "stream",
     "text": [
      "Training until validation scores don't improve for 30 rounds\n",
      "[100]\ttraining's multi_logloss: 0.656682\tvalid_1's multi_logloss: 0.759963\n",
      "[200]\ttraining's multi_logloss: 0.587773\tvalid_1's multi_logloss: 0.742802\n",
      "[300]\ttraining's multi_logloss: 0.541265\tvalid_1's multi_logloss: 0.736479\n",
      "[400]\ttraining's multi_logloss: 0.502401\tvalid_1's multi_logloss: 0.734906\n",
      "Early stopping, best iteration is:\n",
      "[386]\ttraining's multi_logloss: 0.50754\tvalid_1's multi_logloss: 0.734623\n"
     ]
    },
    {
     "name": "stderr",
     "output_type": "stream",
     "text": [
      "\u001b[32m[I 2021-12-02 13:55:18,705]\u001b[0m Trial 5 finished with value: 0.7346234657108733 and parameters: {'reg_alpha': 1.987904330777592e-05, 'reg_lambda': 0.028054003730936226, 'max_depth': 11, 'num_leaves': 141, 'colsample_bytree': 0.5109126733153162, 'subsample': 0.9787092394351908, 'subsample_freq': 8, 'min_child_samples': 95, 'max_bin': 469}. Best is trial 1 with value: 0.7146692512382726.\u001b[0m\n"
     ]
    },
    {
     "name": "stdout",
     "output_type": "stream",
     "text": [
      "Training until validation scores don't improve for 30 rounds\n",
      "[100]\ttraining's multi_logloss: 0.803686\tvalid_1's multi_logloss: 0.803331\n",
      "[200]\ttraining's multi_logloss: 0.791935\tvalid_1's multi_logloss: 0.795689\n",
      "[300]\ttraining's multi_logloss: 0.784383\tvalid_1's multi_logloss: 0.79236\n",
      "[400]\ttraining's multi_logloss: 0.777158\tvalid_1's multi_logloss: 0.789341\n",
      "[500]\ttraining's multi_logloss: 0.771048\tvalid_1's multi_logloss: 0.787273\n"
     ]
    },
    {
     "name": "stderr",
     "output_type": "stream",
     "text": [
      "\u001b[32m[I 2021-12-02 13:55:20,808]\u001b[0m Trial 6 finished with value: 0.7847809622061056 and parameters: {'reg_alpha': 1.7941020364544445e-05, 'reg_lambda': 0.08296868193333816, 'max_depth': 2, 'num_leaves': 51, 'colsample_bytree': 0.4271363733463229, 'subsample': 0.527731231534285, 'subsample_freq': 4, 'min_child_samples': 31, 'max_bin': 449}. Best is trial 1 with value: 0.7146692512382726.\u001b[0m\n"
     ]
    },
    {
     "name": "stdout",
     "output_type": "stream",
     "text": [
      "[600]\ttraining's multi_logloss: 0.765907\tvalid_1's multi_logloss: 0.784901\n",
      "Early stopping, best iteration is:\n",
      "[570]\ttraining's multi_logloss: 0.767391\tvalid_1's multi_logloss: 0.784781\n",
      "Training until validation scores don't improve for 30 rounds\n",
      "[100]\ttraining's multi_logloss: 0.712822\tvalid_1's multi_logloss: 0.770551\n",
      "[200]\ttraining's multi_logloss: 0.652612\tvalid_1's multi_logloss: 0.754478\n",
      "[300]\ttraining's multi_logloss: 0.608127\tvalid_1's multi_logloss: 0.743041\n",
      "[400]\ttraining's multi_logloss: 0.570577\tvalid_1's multi_logloss: 0.738388\n",
      "[500]\ttraining's multi_logloss: 0.539189\tvalid_1's multi_logloss: 0.733375\n",
      "Early stopping, best iteration is:\n",
      "[564]\ttraining's multi_logloss: 0.521074\tvalid_1's multi_logloss: 0.730798\n"
     ]
    },
    {
     "name": "stderr",
     "output_type": "stream",
     "text": [
      "\u001b[32m[I 2021-12-02 13:55:25,609]\u001b[0m Trial 7 finished with value: 0.7307976236412195 and parameters: {'reg_alpha': 1.0709032267540741e-05, 'reg_lambda': 0.025284113062519174, 'max_depth': 11, 'num_leaves': 37, 'colsample_bytree': 0.8813181884524238, 'subsample': 0.35218545057583955, 'subsample_freq': 10, 'min_child_samples': 79, 'max_bin': 259}. Best is trial 1 with value: 0.7146692512382726.\u001b[0m\n"
     ]
    },
    {
     "name": "stdout",
     "output_type": "stream",
     "text": [
      "Training until validation scores don't improve for 30 rounds\n",
      "[100]\ttraining's multi_logloss: 0.506517\tvalid_1's multi_logloss: 0.734635\n",
      "Early stopping, best iteration is:\n",
      "[137]\ttraining's multi_logloss: 0.44734\tvalid_1's multi_logloss: 0.732006\n"
     ]
    },
    {
     "name": "stderr",
     "output_type": "stream",
     "text": [
      "\u001b[32m[I 2021-12-02 13:55:29,411]\u001b[0m Trial 8 finished with value: 0.7320061448786677 and parameters: {'reg_alpha': 1.7560829253683595e-07, 'reg_lambda': 0.07339153040632079, 'max_depth': 15, 'num_leaves': 187, 'colsample_bytree': 0.8627622080115674, 'subsample': 0.35183125621386324, 'subsample_freq': 4, 'min_child_samples': 16, 'max_bin': 459}. Best is trial 1 with value: 0.7146692512382726.\u001b[0m\n"
     ]
    },
    {
     "name": "stdout",
     "output_type": "stream",
     "text": [
      "Training until validation scores don't improve for 30 rounds\n",
      "[100]\ttraining's multi_logloss: 0.803598\tvalid_1's multi_logloss: 0.797966\n",
      "[200]\ttraining's multi_logloss: 0.794271\tvalid_1's multi_logloss: 0.79389\n",
      "[300]\ttraining's multi_logloss: 0.786415\tvalid_1's multi_logloss: 0.790081\n",
      "[400]\ttraining's multi_logloss: 0.779622\tvalid_1's multi_logloss: 0.787344\n",
      "[500]\ttraining's multi_logloss: 0.773268\tvalid_1's multi_logloss: 0.784215\n",
      "[600]\ttraining's multi_logloss: 0.768083\tvalid_1's multi_logloss: 0.78276\n",
      "[700]\ttraining's multi_logloss: 0.763444\tvalid_1's multi_logloss: 0.780481\n",
      "[800]\ttraining's multi_logloss: 0.758516\tvalid_1's multi_logloss: 0.779679\n",
      "[900]\ttraining's multi_logloss: 0.754241\tvalid_1's multi_logloss: 0.777913\n",
      "[1000]\ttraining's multi_logloss: 0.750623\tvalid_1's multi_logloss: 0.776469\n",
      "[1100]\ttraining's multi_logloss: 0.747049\tvalid_1's multi_logloss: 0.775001\n",
      "Early stopping, best iteration is:\n",
      "[1134]\ttraining's multi_logloss: 0.745531\tvalid_1's multi_logloss: 0.773977\n"
     ]
    },
    {
     "name": "stderr",
     "output_type": "stream",
     "text": [
      "\u001b[32m[I 2021-12-02 13:55:33,808]\u001b[0m Trial 9 finished with value: 0.7739772069745613 and parameters: {'reg_alpha': 1.8702710823558463e-05, 'reg_lambda': 0.02978082892775818, 'max_depth': 2, 'num_leaves': 81, 'colsample_bytree': 0.5951099932160482, 'subsample': 0.8107243248366449, 'subsample_freq': 7, 'min_child_samples': 90, 'max_bin': 342}. Best is trial 1 with value: 0.7146692512382726.\u001b[0m\n"
     ]
    },
    {
     "name": "stdout",
     "output_type": "stream",
     "text": [
      "Best Score: 0.7146692512382726\n",
      "Best trial: {'reg_alpha': 2.1245096608103405e-05, 'reg_lambda': 0.0018526142807772773, 'max_depth': 20, 'num_leaves': 214, 'colsample_bytree': 0.5274034664069657, 'subsample': 0.42727747704497043, 'subsample_freq': 2, 'min_child_samples': 34, 'max_bin': 357}\n"
     ]
    }
   ],
   "source": [
    "sampler = TPESampler(seed=42)\n",
    "study = optuna.create_study(\n",
    "    study_name=\"lgbm_parameter_opt\",\n",
    "    direction=\"minimize\",\n",
    "    sampler=sampler,\n",
    ")\n",
    "study.optimize(objective_lgbm, n_trials=10)\n",
    "print(\"Best Score:\", study.best_value)\n",
    "print(\"Best trial:\", study.best_trial.params)"
   ]
  },
  {
   "cell_type": "markdown",
   "id": "9a9194f3",
   "metadata": {},
   "source": [
    "### 10-Fold + LGBM  "
   ]
  },
  {
   "cell_type": "code",
   "execution_count": 186,
   "id": "bfb07d40",
   "metadata": {
    "ExecuteTime": {
     "end_time": "2021-12-02T03:35:36.970430Z",
     "start_time": "2021-12-02T03:35:36.958125Z"
    }
   },
   "outputs": [],
   "source": [
    "skf = StratifiedKFold(n_splits=10, shuffle=True, random_state=42)\n",
    "folds = []\n",
    "for train_idx, valid_idx in skf.split(train, train['credit']):\n",
    "    folds.append((train_idx,valid_idx))"
   ]
  },
  {
   "cell_type": "code",
   "execution_count": 187,
   "id": "c56a1513",
   "metadata": {
    "ExecuteTime": {
     "end_time": "2021-12-02T03:35:56.829943Z",
     "start_time": "2021-12-02T03:35:38.454208Z"
    }
   },
   "outputs": [
    {
     "name": "stdout",
     "output_type": "stream",
     "text": [
      "====================================1============================================\n",
      "Training until validation scores don't improve for 30 rounds\n",
      "Early stopping, best iteration is:\n",
      "[53]\ttraining's multi_logloss: 0.511396\tvalid_1's multi_logloss: 0.726086\n",
      "================================================================================\n",
      "\n",
      "\n",
      "====================================2============================================\n",
      "Training until validation scores don't improve for 30 rounds\n",
      "Early stopping, best iteration is:\n",
      "[61]\ttraining's multi_logloss: 0.479483\tvalid_1's multi_logloss: 0.747483\n",
      "================================================================================\n",
      "\n",
      "\n",
      "====================================3============================================\n",
      "Training until validation scores don't improve for 30 rounds\n",
      "Early stopping, best iteration is:\n",
      "[59]\ttraining's multi_logloss: 0.494689\tvalid_1's multi_logloss: 0.710644\n",
      "================================================================================\n",
      "\n",
      "\n",
      "====================================4============================================\n",
      "Training until validation scores don't improve for 30 rounds\n",
      "Early stopping, best iteration is:\n",
      "[47]\ttraining's multi_logloss: 0.523826\tvalid_1's multi_logloss: 0.731991\n",
      "================================================================================\n",
      "\n",
      "\n",
      "====================================5============================================\n",
      "Training until validation scores don't improve for 30 rounds\n",
      "[100]\ttraining's multi_logloss: 0.397531\tvalid_1's multi_logloss: 0.742898\n",
      "Did not meet early stopping. Best iteration is:\n",
      "[100]\ttraining's multi_logloss: 0.397531\tvalid_1's multi_logloss: 0.742898\n",
      "================================================================================\n",
      "\n",
      "\n",
      "====================================6============================================\n",
      "Training until validation scores don't improve for 30 rounds\n",
      "Early stopping, best iteration is:\n",
      "[50]\ttraining's multi_logloss: 0.525461\tvalid_1's multi_logloss: 0.744781\n",
      "================================================================================\n",
      "\n",
      "\n",
      "====================================7============================================\n",
      "Training until validation scores don't improve for 30 rounds\n",
      "Early stopping, best iteration is:\n",
      "[67]\ttraining's multi_logloss: 0.471144\tvalid_1's multi_logloss: 0.710328\n",
      "================================================================================\n",
      "\n",
      "\n",
      "====================================8============================================\n",
      "Training until validation scores don't improve for 30 rounds\n",
      "[100]\ttraining's multi_logloss: 0.406846\tvalid_1's multi_logloss: 0.738902\n",
      "Did not meet early stopping. Best iteration is:\n",
      "[100]\ttraining's multi_logloss: 0.406846\tvalid_1's multi_logloss: 0.738902\n",
      "================================================================================\n",
      "\n",
      "\n",
      "====================================9============================================\n",
      "Training until validation scores don't improve for 30 rounds\n",
      "Early stopping, best iteration is:\n",
      "[43]\ttraining's multi_logloss: 0.538732\tvalid_1's multi_logloss: 0.747796\n",
      "================================================================================\n",
      "\n",
      "\n",
      "====================================10============================================\n",
      "Training until validation scores don't improve for 30 rounds\n",
      "Early stopping, best iteration is:\n",
      "[45]\ttraining's multi_logloss: 0.542273\tvalid_1's multi_logloss: 0.730008\n",
      "================================================================================\n",
      "\n",
      "\n"
     ]
    }
   ],
   "source": [
    "random.seed(42)\n",
    "lgbm_models={}\n",
    "\n",
    "for fold in range(10):\n",
    "    print(f'===================================={fold+1}============================================')\n",
    "    train_idx, valid_idx = folds[fold]\n",
    "    X_train = train.drop(['credit'],axis=1).iloc[train_idx].values \n",
    "    X_valid = train.drop(['credit'],axis=1).iloc[valid_idx].values\n",
    "    y_train = train['credit'][train_idx].values\n",
    "    y_valid = train['credit'][valid_idx].values\n",
    "\n",
    "    lgbm = LGBMClassifier(**study.best_params)\n",
    "    lgbm.fit(\n",
    "        X_train,\n",
    "        y_train,\n",
    "        eval_set=[(X_train, y_train), (X_valid, y_valid)],\n",
    "        early_stopping_rounds=30,\n",
    "        verbose=100,\n",
    "    )\n",
    "    lgbm_models[fold] = lgbm\n",
    "    print(f'================================================================================\\n\\n')"
   ]
  },
  {
   "cell_type": "code",
   "execution_count": 202,
   "id": "87a52a25",
   "metadata": {
    "ExecuteTime": {
     "end_time": "2021-12-02T04:43:23.525546Z",
     "start_time": "2021-12-02T04:43:23.513587Z"
    }
   },
   "outputs": [],
   "source": [
    "submit = pd.read_csv('../data/sample_submission.csv')"
   ]
  },
  {
   "cell_type": "code",
   "execution_count": 203,
   "id": "2927211e",
   "metadata": {
    "ExecuteTime": {
     "end_time": "2021-12-02T04:43:25.569097Z",
     "start_time": "2021-12-02T04:43:25.038359Z"
    }
   },
   "outputs": [],
   "source": [
    "submit.iloc[:,1:]=0\n",
    "for fold in range(10):\n",
    "    submit.iloc[:,1:] += lgbm_models[fold].predict_proba(test)/10"
   ]
  },
  {
   "cell_type": "code",
   "execution_count": 204,
   "id": "5b8dd1b5",
   "metadata": {
    "ExecuteTime": {
     "end_time": "2021-12-02T04:43:29.083410Z",
     "start_time": "2021-12-02T04:43:29.053567Z"
    }
   },
   "outputs": [
    {
     "data": {
      "text/html": [
       "<div>\n",
       "<style scoped>\n",
       "    .dataframe tbody tr th:only-of-type {\n",
       "        vertical-align: middle;\n",
       "    }\n",
       "\n",
       "    .dataframe tbody tr th {\n",
       "        vertical-align: top;\n",
       "    }\n",
       "\n",
       "    .dataframe thead th {\n",
       "        text-align: right;\n",
       "    }\n",
       "</style>\n",
       "<table border=\"1\" class=\"dataframe\">\n",
       "  <thead>\n",
       "    <tr style=\"text-align: right;\">\n",
       "      <th></th>\n",
       "      <th>index</th>\n",
       "      <th>0</th>\n",
       "      <th>1</th>\n",
       "      <th>2</th>\n",
       "    </tr>\n",
       "  </thead>\n",
       "  <tbody>\n",
       "    <tr>\n",
       "      <th>count</th>\n",
       "      <td>9998.00000</td>\n",
       "      <td>9998.000000</td>\n",
       "      <td>9998.000000</td>\n",
       "      <td>9998.000000</td>\n",
       "    </tr>\n",
       "    <tr>\n",
       "      <th>mean</th>\n",
       "      <td>31455.50000</td>\n",
       "      <td>0.118742</td>\n",
       "      <td>0.205368</td>\n",
       "      <td>0.675890</td>\n",
       "    </tr>\n",
       "    <tr>\n",
       "      <th>std</th>\n",
       "      <td>2886.31833</td>\n",
       "      <td>0.084549</td>\n",
       "      <td>0.165064</td>\n",
       "      <td>0.201313</td>\n",
       "    </tr>\n",
       "    <tr>\n",
       "      <th>min</th>\n",
       "      <td>26457.00000</td>\n",
       "      <td>0.012701</td>\n",
       "      <td>0.021290</td>\n",
       "      <td>0.006435</td>\n",
       "    </tr>\n",
       "    <tr>\n",
       "      <th>25%</th>\n",
       "      <td>28956.25000</td>\n",
       "      <td>0.064117</td>\n",
       "      <td>0.111006</td>\n",
       "      <td>0.625368</td>\n",
       "    </tr>\n",
       "    <tr>\n",
       "      <th>50%</th>\n",
       "      <td>31455.50000</td>\n",
       "      <td>0.093987</td>\n",
       "      <td>0.155925</td>\n",
       "      <td>0.730229</td>\n",
       "    </tr>\n",
       "    <tr>\n",
       "      <th>75%</th>\n",
       "      <td>33954.75000</td>\n",
       "      <td>0.143919</td>\n",
       "      <td>0.227406</td>\n",
       "      <td>0.800812</td>\n",
       "    </tr>\n",
       "    <tr>\n",
       "      <th>max</th>\n",
       "      <td>36454.00000</td>\n",
       "      <td>0.698831</td>\n",
       "      <td>0.957156</td>\n",
       "      <td>0.956166</td>\n",
       "    </tr>\n",
       "  </tbody>\n",
       "</table>\n",
       "</div>"
      ],
      "text/plain": [
       "             index            0            1            2\n",
       "count   9998.00000  9998.000000  9998.000000  9998.000000\n",
       "mean   31455.50000     0.118742     0.205368     0.675890\n",
       "std     2886.31833     0.084549     0.165064     0.201313\n",
       "min    26457.00000     0.012701     0.021290     0.006435\n",
       "25%    28956.25000     0.064117     0.111006     0.625368\n",
       "50%    31455.50000     0.093987     0.155925     0.730229\n",
       "75%    33954.75000     0.143919     0.227406     0.800812\n",
       "max    36454.00000     0.698831     0.957156     0.956166"
      ]
     },
     "execution_count": 204,
     "metadata": {},
     "output_type": "execute_result"
    }
   ],
   "source": [
    "submit.describe()"
   ]
  },
  {
   "cell_type": "code",
   "execution_count": 205,
   "id": "f2a8a755",
   "metadata": {
    "ExecuteTime": {
     "end_time": "2021-12-02T04:43:38.275418Z",
     "start_time": "2021-12-02T04:43:38.219640Z"
    }
   },
   "outputs": [],
   "source": [
    "submit.to_csv('../data/submit_lgbm_10F.csv', index=False) # test 데이터 전처리 과정에서 row 2개가 빠져 평균값으로 채워주었다 (대회 score 제출 규정)"
   ]
  },
  {
   "cell_type": "markdown",
   "id": "a92488e0",
   "metadata": {},
   "source": [
    "## CatBoost"
   ]
  },
  {
   "cell_type": "markdown",
   "id": "a02444c6",
   "metadata": {},
   "source": [
    "### Optuna 활용한 best parameter 추출 "
   ]
  },
  {
   "cell_type": "code",
   "execution_count": 7,
   "id": "cab5c5f7",
   "metadata": {
    "ExecuteTime": {
     "end_time": "2021-12-02T05:29:43.588057Z",
     "start_time": "2021-12-02T05:29:43.570126Z"
    }
   },
   "outputs": [],
   "source": [
    "for col in train.columns[[0, 2, 5, 6, 7, 8, 9, 10, 12, 15, 16, 18, 19, 20]]:\n",
    "    train[col] = train[col].astype('int64')"
   ]
  },
  {
   "cell_type": "code",
   "execution_count": null,
   "id": "3496d78a",
   "metadata": {
    "ExecuteTime": {
     "start_time": "2021-12-02T07:25:38.778Z"
    }
   },
   "outputs": [],
   "source": [
    "def objective_cat(trial):\n",
    "    param = {\n",
    "      \"random_state\":42,\n",
    "      'learning_rate' : trial.suggest_loguniform('learning_rate', 0.01, 0.3),\n",
    "      'bagging_temperature' :trial.suggest_loguniform('bagging_temperature', 0.01, 100.00),\n",
    "      \"n_estimators\":trial.suggest_int(\"n_estimators\", 1000, 10000),\n",
    "      \"max_depth\":trial.suggest_int(\"max_depth\", 4, 16),\n",
    "      'random_strength' :trial.suggest_int('random_strength', 0, 100),\n",
    "      \"colsample_bylevel\":trial.suggest_float(\"colsample_bylevel\", 0.4, 1.0),\n",
    "      \"l2_leaf_reg\":trial.suggest_float(\"l2_leaf_reg\",1e-8,3e-5),\n",
    "      \"min_child_samples\": trial.suggest_int(\"min_child_samples\", 5, 100),\n",
    "      \"max_bin\": trial.suggest_int(\"max_bin\", 200, 500),\n",
    "      'od_type': trial.suggest_categorical('od_type', ['IncToDec', 'Iter']),\n",
    "    }\n",
    "\n",
    "    X_train, X_valid, y_train, y_valid = train_test_split(X,y,test_size=0.2)\n",
    "    \n",
    "    cat_features =[0, 2, 5, 6, 7, 8, 9, 10, 12, 15, 16, 18, 19, 20]\n",
    "    cat = CatBoostClassifier(**param)\n",
    "    cat.fit(X_train, y_train,\n",
    "          eval_set=[(X_train, y_train), (X_valid,y_valid)],\n",
    "          early_stopping_rounds=30,cat_features=cat_features,\n",
    "          verbose=100)\n",
    "    cat_pred = cat.predict_proba(X_valid)\n",
    "    log_score = log_loss(y_valid, cat_pred)\n",
    "\n",
    "    return log_score"
   ]
  },
  {
   "cell_type": "code",
   "execution_count": null,
   "id": "1e26e13f",
   "metadata": {
    "ExecuteTime": {
     "start_time": "2021-12-02T05:32:21.141Z"
    }
   },
   "outputs": [
    {
     "name": "stderr",
     "output_type": "stream",
     "text": [
      "\u001b[32m[I 2021-12-02 14:32:21,144]\u001b[0m A new study created in memory with name: cat_parameter_opt\u001b[0m\n"
     ]
    }
   ],
   "source": [
    "sampler = TPESampler(seed=42)\n",
    "study = optuna.create_study(\n",
    "    study_name = 'cat_parameter_opt',\n",
    "    direction = 'minimize',\n",
    "    sampler = sampler,\n",
    ")\n",
    "study.optimize(objective_cat, n_trials=10)\n",
    "print(\"Best Score:\",study.best_value)\n",
    "print(\"Best trial\",study.best_trial.params)"
   ]
  }
 ],
 "metadata": {
  "kernelspec": {
   "display_name": "Python 3 (ipykernel)",
   "language": "python",
   "name": "python3"
  },
  "language_info": {
   "codemirror_mode": {
    "name": "ipython",
    "version": 3
   },
   "file_extension": ".py",
   "mimetype": "text/x-python",
   "name": "python",
   "nbconvert_exporter": "python",
   "pygments_lexer": "ipython3",
   "version": "3.9.7"
  },
  "toc": {
   "base_numbering": 1,
   "nav_menu": {},
   "number_sections": true,
   "sideBar": true,
   "skip_h1_title": false,
   "title_cell": "Table of Contents",
   "title_sidebar": "Contents",
   "toc_cell": false,
   "toc_position": {
    "height": "calc(100% - 180px)",
    "left": "10px",
    "top": "150px",
    "width": "384px"
   },
   "toc_section_display": true,
   "toc_window_display": true
  }
 },
 "nbformat": 4,
 "nbformat_minor": 5
}
